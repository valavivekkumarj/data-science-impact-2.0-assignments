{
 "cells": [
  {
   "cell_type": "markdown",
   "id": "b1c97e48-8499-43fe-9735-6580ea40c475",
   "metadata": {},
   "source": [
    "Q1, Create a vehicle class with an init method having instance variables as name_of_vehicle, max_speed\n",
    "and average_of_vehicle."
   ]
  },
  {
   "cell_type": "code",
   "execution_count": 3,
   "id": "bf52e821-6611-487e-9309-b1c959f22f93",
   "metadata": {},
   "outputs": [],
   "source": [
    "class vehicle:\n",
    "    def __init__(self,name_of_vehicle,max_speed,average_of_vehicle):\n",
    "        self.name_of_vehicle=name_of_vehicle\n",
    "        self.max_speed=max_speed\n",
    "        self.average_of_vehicle=average_of_vehicle\n",
    "    def details_vehicle(self):\n",
    "        return self.name_of_vehicle,self.max_speed,self.average_of_vehicle"
   ]
  },
  {
   "cell_type": "code",
   "execution_count": 7,
   "id": "9ebeae85-cec0-476d-9869-9785a6f6cb6d",
   "metadata": {},
   "outputs": [
    {
     "data": {
      "text/plain": [
       "('honda', 150, 90)"
      ]
     },
     "execution_count": 7,
     "metadata": {},
     "output_type": "execute_result"
    }
   ],
   "source": [
    "obj=vehicle(\"honda\",150,90)\n",
    "obj.details_vehicle()"
   ]
  },
  {
   "cell_type": "markdown",
   "id": "28b81d08-7c9d-4e1b-8266-6ded0094eda6",
   "metadata": {},
   "source": [
    "Q2. Create a child class car from the vehicle class created in Que 1, which will inherit the vehicle class.\n",
    "Create a method named seating_capacity which takes capacity as an argument and returns the name of\n",
    "the vehicle and its seating capacity."
   ]
  },
  {
   "cell_type": "code",
   "execution_count": 4,
   "id": "2e910f44-fb23-4bad-80de-22d613f98a07",
   "metadata": {},
   "outputs": [],
   "source": [
    "class car(vehicle):\n",
    "    def seating_capacity(self,capacity):\n",
    "        return self.name_of_vehicle,capacity\n",
    "        "
   ]
  },
  {
   "cell_type": "code",
   "execution_count": 5,
   "id": "78c39e20-6121-4f87-b862-d07579f140ff",
   "metadata": {},
   "outputs": [
    {
     "data": {
      "text/plain": [
       "('honda', 4)"
      ]
     },
     "execution_count": 5,
     "metadata": {},
     "output_type": "execute_result"
    }
   ],
   "source": [
    "c=car(\"honda\",150,90)\n",
    "c.seating_capacity(4)"
   ]
  },
  {
   "cell_type": "markdown",
   "id": "776370bd-c5f3-4204-a9b6-a7614732aad0",
   "metadata": {},
   "source": [
    "Q3. What is multiple inheritance? Write a python code to demonstrate multiple inheritance."
   ]
  },
  {
   "cell_type": "markdown",
   "id": "ebd2069e-a0de-4bfb-9fd7-775717aa7157",
   "metadata": {},
   "source": [
    "inheritence is feature in object oriented programing language.using this feature class can inherit the\n",
    "atribute or behaviour of multiple parents class.\n",
    "it mean that any class can inherit instance and method of other classes at a time more than one class can inherite using multiple inheritence "
   ]
  },
  {
   "cell_type": "markdown",
   "id": "6cd293a3-fc10-4306-9b81-6891b995c82f",
   "metadata": {},
   "source": [
    "example:"
   ]
  },
  {
   "cell_type": "code",
   "execution_count": 6,
   "id": "8293b321-7987-483d-b194-76aa9e3fdad0",
   "metadata": {},
   "outputs": [
    {
     "data": {
      "text/plain": [
       "(83.83, 69)"
      ]
     },
     "execution_count": 6,
     "metadata": {},
     "output_type": "execute_result"
    }
   ],
   "source": [
    "class school:\n",
    "    def school_education(self,_10th,_12th):\n",
    "        self._10th=_10th\n",
    "        self._12th=_12th\n",
    "        return self._10th,self._12th\n",
    "class college:\n",
    "    def college_education(self,cgpa):\n",
    "        self.cgpa=cgpa\n",
    "        return self.cgpa\n",
    "class resume(school,college):\n",
    "    pass\n",
    "vivek=resume()\n",
    "vivek.school_education(83.83,69)"
   ]
  },
  {
   "cell_type": "code",
   "execution_count": 7,
   "id": "8af017a9-b25a-4379-bfb4-b2a762e142d6",
   "metadata": {},
   "outputs": [
    {
     "data": {
      "text/plain": [
       "9.04"
      ]
     },
     "execution_count": 7,
     "metadata": {},
     "output_type": "execute_result"
    }
   ],
   "source": [
    "vivek.college_education(9.04)\n"
   ]
  },
  {
   "cell_type": "markdown",
   "id": "beacb767-5a34-4d3a-a38b-2ed2a170b809",
   "metadata": {},
   "source": [
    "Q4. What are getter and setter in python? Create a class and create a getter and a setter method in this\n",
    "class."
   ]
  },
  {
   "cell_type": "markdown",
   "id": "97a19fcc-19ad-4078-b408-71b696517ca1",
   "metadata": {},
   "source": [
    "In Python, getter and setter methods are used to provide controlled access to the attributes of a class. They allow you to retrieve (get) and modify (set) the values of private attributes, while encapsulating the implementation details of the class."
   ]
  },
  {
   "cell_type": "code",
   "execution_count": 11,
   "id": "077378ae-5b6c-4093-9ff4-6accc153bfec",
   "metadata": {},
   "outputs": [],
   "source": [
    "class student:\n",
    "    def __init__(self):\n",
    "        self.__name=\"vivek\"\n",
    "        self.__roll=111\n",
    "        self.__branch=\"it\"\n",
    "        self.__year=2023\n",
    "    \n",
    "    #getter\n",
    "    def get(self):\n",
    "        return self.__name,self.__roll,self.__branch,self.__year\n",
    "    def set(self,name,roll,branch,year):\n",
    "        self.__name=name\n",
    "        self.__roll=roll\n",
    "        self.__branch=branch\n",
    "        self.__year=year\n"
   ]
  },
  {
   "cell_type": "code",
   "execution_count": 12,
   "id": "f1937a2d-8767-48da-911c-d3485330cfc5",
   "metadata": {},
   "outputs": [],
   "source": [
    "s=student()"
   ]
  },
  {
   "cell_type": "code",
   "execution_count": 15,
   "id": "c74f4f0d-ac56-4aba-954e-9c28310a563d",
   "metadata": {},
   "outputs": [
    {
     "data": {
      "text/plain": [
       "'vivek'"
      ]
     },
     "execution_count": 15,
     "metadata": {},
     "output_type": "execute_result"
    }
   ],
   "source": [
    "s._student__name"
   ]
  },
  {
   "cell_type": "code",
   "execution_count": 16,
   "id": "28c3400b-49be-4142-b168-d8913de1b609",
   "metadata": {},
   "outputs": [
    {
     "data": {
      "text/plain": [
       "111"
      ]
     },
     "execution_count": 16,
     "metadata": {},
     "output_type": "execute_result"
    }
   ],
   "source": [
    "s._student__roll"
   ]
  },
  {
   "cell_type": "code",
   "execution_count": 17,
   "id": "bca6f35c-081b-4854-8c19-58212413c140",
   "metadata": {},
   "outputs": [
    {
     "ename": "AttributeError",
     "evalue": "'student' object has no attribute '__name'",
     "output_type": "error",
     "traceback": [
      "\u001b[0;31m---------------------------------------------------------------------------\u001b[0m",
      "\u001b[0;31mAttributeError\u001b[0m                            Traceback (most recent call last)",
      "Cell \u001b[0;32mIn[17], line 1\u001b[0m\n\u001b[0;32m----> 1\u001b[0m \u001b[43ms\u001b[49m\u001b[38;5;241;43m.\u001b[39;49m\u001b[43m__name\u001b[49m\n",
      "\u001b[0;31mAttributeError\u001b[0m: 'student' object has no attribute '__name'"
     ]
    }
   ],
   "source": [
    "s.__name"
   ]
  },
  {
   "cell_type": "code",
   "execution_count": 18,
   "id": "b616760a-c52e-4ad8-bcd6-025a04e0af64",
   "metadata": {},
   "outputs": [],
   "source": [
    "s.set(\"krishna\",111,\"it\",2023)"
   ]
  },
  {
   "cell_type": "code",
   "execution_count": 19,
   "id": "8a4fd802-5eff-42e9-83f4-20d797998dc3",
   "metadata": {},
   "outputs": [
    {
     "data": {
      "text/plain": [
       "('krishna', 111, 'it', 2023)"
      ]
     },
     "execution_count": 19,
     "metadata": {},
     "output_type": "execute_result"
    }
   ],
   "source": [
    "s.get()"
   ]
  },
  {
   "cell_type": "markdown",
   "id": "72b38c5f-b0ec-4a94-b315-0d74f542f5b3",
   "metadata": {},
   "source": [
    "Q5.What is method overriding in python? Write a python code to demonstrate method overriding."
   ]
  },
  {
   "cell_type": "markdown",
   "id": "ec1dae2f-0fee-4def-b505-74fbef7e5896",
   "metadata": {},
   "source": [
    "Method overriding is a feature in object-oriented programming where a subclass provides a different implementation for a method that is already defined in its parent class. It allows a subclass to redefine or modify the behavior of a method inherited from the parent class."
   ]
  },
  {
   "cell_type": "code",
   "execution_count": 24,
   "id": "ee1e15e8-4408-4b99-81c9-9924554f5fd5",
   "metadata": {},
   "outputs": [
    {
     "data": {
      "text/plain": [
       "('vivek', 111)"
      ]
     },
     "execution_count": 24,
     "metadata": {},
     "output_type": "execute_result"
    }
   ],
   "source": [
    "class scholl:\n",
    "    def __init__(self,name,roll):\n",
    "        self.name=name\n",
    "        self.roll=roll\n",
    "    def details(self):\n",
    "        pass\n",
    "class student(scholl):\n",
    "    \n",
    "    def details(self):\n",
    "        return self.name,self.roll\n",
    "obj=student(\"vivek\",111)\n",
    "obj.details()"
   ]
  },
  {
   "cell_type": "code",
   "execution_count": null,
   "id": "12d19e55-8ddc-4da6-b1c4-47a6dc103907",
   "metadata": {},
   "outputs": [],
   "source": []
  },
  {
   "cell_type": "code",
   "execution_count": null,
   "id": "7fb4e99d-697e-40c8-b413-007d66fec486",
   "metadata": {},
   "outputs": [],
   "source": []
  }
 ],
 "metadata": {
  "kernelspec": {
   "display_name": "Python 3 (ipykernel)",
   "language": "python",
   "name": "python3"
  },
  "language_info": {
   "codemirror_mode": {
    "name": "ipython",
    "version": 3
   },
   "file_extension": ".py",
   "mimetype": "text/x-python",
   "name": "python",
   "nbconvert_exporter": "python",
   "pygments_lexer": "ipython3",
   "version": "3.10.8"
  }
 },
 "nbformat": 4,
 "nbformat_minor": 5
}
