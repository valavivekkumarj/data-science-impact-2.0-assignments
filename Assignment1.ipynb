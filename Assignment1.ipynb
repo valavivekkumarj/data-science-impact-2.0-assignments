{
 "cells": [
  {
   "cell_type": "markdown",
   "id": "1eacc414-9538-44f1-a155-937fd0fddb01",
   "metadata": {},
   "source": [
    "def keyword is used to create a function."
   ]
  },
  {
   "cell_type": "markdown",
   "id": "ab05e9e0-6bc6-4d55-a7b8-49fc24b98498",
   "metadata": {},
   "source": [
    "Create a function to return a list of odd numbers in the\n",
    "range of 1 to 25."
   ]
  },
  {
   "cell_type": "code",
   "execution_count": 1,
   "id": "340adace-f01a-4f7a-ba79-963ec74c2c17",
   "metadata": {},
   "outputs": [],
   "source": [
    "list=[]\n",
    "def odd_num(list):\n",
    "    for i in range(1,25):\n",
    "        if i%2==0:\n",
    "            pass\n",
    "        else:\n",
    "            list.append(i)\n",
    "odd_num(list)\n",
    "\n",
    "    "
   ]
  },
  {
   "cell_type": "code",
   "execution_count": 2,
   "id": "123ddcf6-072d-41a5-beb7-609817397571",
   "metadata": {},
   "outputs": [
    {
     "data": {
      "text/plain": [
       "[1, 3, 5, 7, 9, 11, 13, 15, 17, 19, 21, 23]"
      ]
     },
     "execution_count": 2,
     "metadata": {},
     "output_type": "execute_result"
    }
   ],
   "source": [
    "list"
   ]
  },
  {
   "cell_type": "markdown",
   "id": "54557f0b-1e13-4811-925c-c63f46e997dd",
   "metadata": {},
   "source": [
    "Q2. Why *args and **kwargs is used in some functions? Create a function each for *args and **kwargs\n",
    "to demonstrate their use."
   ]
  },
  {
   "cell_type": "markdown",
   "id": "577dc059-ad2f-4459-9e1c-95d45d07bca9",
   "metadata": {},
   "source": [
    "if i dont known how many argument pass in my fuction so i used arbitary argument *args.\n",
    "so i can pass multiple argument in fuction and whatever i want used within fuction.\n"
   ]
  },
  {
   "cell_type": "code",
   "execution_count": 3,
   "id": "cef56389-f877-4119-8b85-a70c72fb4f4e",
   "metadata": {},
   "outputs": [
    {
     "name": "stdout",
     "output_type": "stream",
     "text": [
      "my name is =  vivek\n"
     ]
    }
   ],
   "source": [
    "def arbitary(*args):\n",
    "    print(\"my name is = \",args[1])\n",
    "arbitary(\"jay\",\"vivek\",\"virat\")"
   ]
  },
  {
   "cell_type": "markdown",
   "id": "d6392ccf-2e1e-4062-8390-ccf9cc4eeb7c",
   "metadata": {},
   "source": [
    "if i dont known how many keyword argument pass in my fuction so i use arbitary keyword argument **args\n",
    "so i can pass multiple keyword argument to fuction and get using the keyword name."
   ]
  },
  {
   "cell_type": "code",
   "execution_count": 8,
   "id": "fcaa7983-55bc-4036-b608-964fd15eeba3",
   "metadata": {},
   "outputs": [
    {
     "name": "stdout",
     "output_type": "stream",
     "text": [
      "my name is : virat\n"
     ]
    }
   ],
   "source": [
    "def arbitary_keyword(**a):\n",
    "    print(\"my name is : \"+a['n2'])\n",
    "arbitary_keyword(n1=\"vivek\",n2=\"virat\",n3=\"shubhman\")"
   ]
  },
  {
   "cell_type": "code",
   "execution_count": 7,
   "id": "3c8e4288-5ef8-42b7-bb0b-6c6c25a1f94b",
   "metadata": {},
   "outputs": [
    {
     "name": "stdout",
     "output_type": "stream",
     "text": [
      "His last name is Refsnes\n"
     ]
    }
   ],
   "source": [
    "def my_function(**kid):\n",
    "    print(\"His last name is \" + kid[\"lname\"])\n",
    "\n",
    "my_function(fname = \"Tobias\", lname = \"Refsnes\")"
   ]
  },
  {
   "cell_type": "markdown",
   "id": "4cb47500-2b88-464a-8e4c-dd0babda905c",
   "metadata": {},
   "source": [
    "What is an iterator in python? Name the method used to initialise the iterator object and the method\n",
    "used for iteration. Use these methods to print the first five elements of the given list [2, 4, 6, 8, 10, 12, 14,\n",
    "16, 18, 20]."
   ]
  },
  {
   "cell_type": "markdown",
   "id": "0b0b63fe-c05e-49f8-b616-cd6e926cb299",
   "metadata": {},
   "source": [
    "in python iterator is an object which used to implement iterator protocol ,basically using it you can traverse \n",
    "all values one by one.\n",
    "methods in iterator are __iter__() and __next()__.\n",
    "using this method we can make any iterable object iterator and then using next() method traverse values one by one"
   ]
  },
  {
   "cell_type": "code",
   "execution_count": 13,
   "id": "2c0477c6-961a-4bf3-b6b9-ffcf49537e70",
   "metadata": {},
   "outputs": [
    {
     "name": "stdout",
     "output_type": "stream",
     "text": [
      "2\n",
      "4\n",
      "6\n",
      "8\n",
      "10\n"
     ]
    }
   ],
   "source": [
    "a=[2, 4, 6, 8, 10, 12, 14, 16, 18, 20]\n",
    "b=iter(a)\n",
    "print(next(b))\n",
    "print(next(b))\n",
    "print(next(b))\n",
    "print(next(b))\n",
    "print(next(b))"
   ]
  },
  {
   "cell_type": "markdown",
   "id": "12c06b12-cc06-4006-a2cb-12718c60ffd4",
   "metadata": {},
   "source": [
    "Q4. What is a generator function in python? Why yield keyword is used? Give an example of a generator\n",
    "function."
   ]
  },
  {
   "cell_type": "markdown",
   "id": "d636e9b2-561e-41c1-b803-34e8208e15d1",
   "metadata": {},
   "source": [
    "In Python, a generator function is a special type of function that generates a sequence of values using the yield keyword. Unlike regular functions that return a single value and then terminate, generator functions can be paused and resumed, allowing them to produce a series of values over time. They are useful when you need to generate a large sequence of values or when you want to iterate over a collection without storing the entire sequence in memory at once.\n",
    "\n",
    "The yield keyword is used in generator functions to define points at which the function should yield a value. When a generator function encounters a yield statement, it temporarily suspends its execution and returns the yielded value. The function's state is saved, allowing it to resume where it left off when it is called again. This enables the generator function to generate values on the fly, only producing and returning each value when requested."
   ]
  },
  {
   "cell_type": "code",
   "execution_count": 20,
   "id": "fea8d2f1-0748-4860-a5f9-ef99aa0a70a9",
   "metadata": {},
   "outputs": [],
   "source": [
    "def fibonaci(n):\n",
    "    a,b=0,1\n",
    "    for i in range(n):\n",
    "        yield a\n",
    "        a,b=b,a+b\n",
    "            "
   ]
  },
  {
   "cell_type": "code",
   "execution_count": 21,
   "id": "20d15702-df53-4356-a878-f6e922b5dd92",
   "metadata": {},
   "outputs": [
    {
     "data": {
      "text/plain": [
       "<generator object fibonaci at 0x7fc7744f4430>"
      ]
     },
     "execution_count": 21,
     "metadata": {},
     "output_type": "execute_result"
    }
   ],
   "source": [
    "fibonaci(10)"
   ]
  },
  {
   "cell_type": "code",
   "execution_count": null,
   "id": "12254e14-a780-45c7-afb7-d0a4ead0a5a9",
   "metadata": {},
   "outputs": [],
   "source": []
  },
  {
   "cell_type": "code",
   "execution_count": null,
   "id": "902545c9-1560-4cb5-9993-f78783917a74",
   "metadata": {},
   "outputs": [],
   "source": [
    "for i in fibonaci(10):\n",
    "    print(i)"
   ]
  },
  {
   "cell_type": "markdown",
   "id": "bc1b352b-bf2d-49be-b1dc-200e87004adb",
   "metadata": {},
   "source": [
    "Q5. Create a generator function for prime numbers less than 1000. Use the next() method to print the\n",
    "first 20 prime numbers."
   ]
  },
  {
   "cell_type": "code",
   "execution_count": 1,
   "id": "0f3566b1-8b84-4f5e-a72b-1355dcf20503",
   "metadata": {},
   "outputs": [],
   "source": [
    "def prime_num():\n",
    "    for i in range(1,1000):\n",
    "        count=0\n",
    "        for j in range(2,i//2+1):\n",
    "            if i%j==0:\n",
    "                count=count+1\n",
    "        if count==0 and i!=1:\n",
    "            yield i\n",
    "\n",
    "        "
   ]
  },
  {
   "cell_type": "code",
   "execution_count": 2,
   "id": "ed217ad4-bec7-4581-a8e0-b0821a914025",
   "metadata": {},
   "outputs": [],
   "source": [
    "prime=prime_num()"
   ]
  },
  {
   "cell_type": "code",
   "execution_count": 3,
   "id": "9f86bb59-bd1a-43ea-9ff0-7f3a34d2aba0",
   "metadata": {},
   "outputs": [
    {
     "name": "stdout",
     "output_type": "stream",
     "text": [
      "2\n",
      "3\n",
      "5\n",
      "7\n",
      "11\n",
      "13\n",
      "17\n",
      "19\n",
      "23\n",
      "29\n",
      "31\n",
      "37\n",
      "41\n",
      "43\n",
      "47\n",
      "53\n",
      "59\n",
      "61\n",
      "67\n",
      "71\n"
     ]
    }
   ],
   "source": [
    "for i in range(20):\n",
    "    print(next(prime))"
   ]
  },
  {
   "cell_type": "markdown",
   "id": "8f1d2ceb-5a50-4a00-9a26-d9c5f4d781f6",
   "metadata": {},
   "source": [
    "Q6. Write a python program to print the first 10 Fibonacci numbers using a while loop."
   ]
  },
  {
   "cell_type": "code",
   "execution_count": 4,
   "id": "a1bc89aa-71dc-4bc2-8d91-0eff4f24821c",
   "metadata": {},
   "outputs": [
    {
     "name": "stdout",
     "output_type": "stream",
     "text": [
      "0\n",
      "1\n",
      "1\n",
      "2\n",
      "3\n",
      "5\n",
      "8\n",
      "13\n",
      "21\n",
      "34\n"
     ]
    }
   ],
   "source": [
    "def fibonaci():\n",
    "    a,b=0,1\n",
    "    while True:\n",
    "        yield a\n",
    "        a,b=b,a+b\n",
    "fib=fibonaci()\n",
    "for i in range(10):\n",
    "    print(next(fib))"
   ]
  },
  {
   "cell_type": "markdown",
   "id": "8537b7a8-9007-4077-98e4-7a1ad9153d39",
   "metadata": {},
   "source": [
    "Q7. Write a List Comprehension to iterate through the given string: ‘pwskills’.\n",
    "Expected output: ['p', 'w', 's', 'k', 'i', 'l', 'l', 's']"
   ]
  },
  {
   "cell_type": "code",
   "execution_count": 5,
   "id": "57ccf62e-f040-49df-a114-67f0df1fd8b9",
   "metadata": {},
   "outputs": [],
   "source": [
    "string=\"pwskills\"\n",
    "result=[char for char in string if char in \"pwskills\"]\n"
   ]
  },
  {
   "cell_type": "code",
   "execution_count": 6,
   "id": "2f92818b-a1ef-4884-8fc6-4a9a9ecd54b2",
   "metadata": {},
   "outputs": [
    {
     "data": {
      "text/plain": [
       "['p', 'w', 's', 'k', 'i', 'l', 'l', 's']"
      ]
     },
     "execution_count": 6,
     "metadata": {},
     "output_type": "execute_result"
    }
   ],
   "source": [
    "result"
   ]
  },
  {
   "cell_type": "markdown",
   "id": "2da9a241-2aab-42b2-8b42-5e944a7bc59e",
   "metadata": {},
   "source": [
    "Q8. Write a python program to check whether a given number is Palindrome or not using a while loop."
   ]
  },
  {
   "cell_type": "code",
   "execution_count": 2,
   "id": "ec78bb19-605b-4098-a704-73f58ed0de2e",
   "metadata": {},
   "outputs": [
    {
     "name": "stdout",
     "output_type": "stream",
     "text": [
      "False\n",
      "True\n"
     ]
    }
   ],
   "source": [
    "# check number is palindrome or not\n",
    "def ispalindrome(num):\n",
    "    reversenum = 0\n",
    "    originalnum = num\n",
    "    while num > 0:\n",
    "        digit = num % 10\n",
    "        reversenum = reversenum * 10 + digit\n",
    "        num = num // 10\n",
    "    if reversenum == originalnum:\n",
    "        return True\n",
    "    else:\n",
    "        return False\n",
    "\n",
    "\n",
    "a = ispalindrome(1211)\n",
    "print(a)\n",
    "a = ispalindrome(121121)\n",
    "print(a)\n"
   ]
  },
  {
   "cell_type": "markdown",
   "id": "4dc280b6-7403-44ae-b2fa-b19738582540",
   "metadata": {},
   "source": [
    "Q9. Write a code to print odd numbers from 1 to 100 using list comprehension.\n",
    "Note: Use a list comprehension to create a list from 1 to 100 and use another List comprehension to filter\n",
    "out odd numbers."
   ]
  },
  {
   "cell_type": "code",
   "execution_count": 3,
   "id": "7a063a44-abda-43b0-a76b-a0178fcea32c",
   "metadata": {},
   "outputs": [],
   "source": [
    "list=[num for num in range(100)]"
   ]
  },
  {
   "cell_type": "code",
   "execution_count": 5,
   "id": "4d168c9b-9683-4832-b3b3-cc0742a42e2c",
   "metadata": {},
   "outputs": [],
   "source": [
    "oddnum=[odd for odd in list if odd%2!=0]"
   ]
  },
  {
   "cell_type": "code",
   "execution_count": 6,
   "id": "2a10c5c4-cca4-43dc-93cd-575dcdcbbdbb",
   "metadata": {},
   "outputs": [
    {
     "data": {
      "text/plain": [
       "[1,\n",
       " 3,\n",
       " 5,\n",
       " 7,\n",
       " 9,\n",
       " 11,\n",
       " 13,\n",
       " 15,\n",
       " 17,\n",
       " 19,\n",
       " 21,\n",
       " 23,\n",
       " 25,\n",
       " 27,\n",
       " 29,\n",
       " 31,\n",
       " 33,\n",
       " 35,\n",
       " 37,\n",
       " 39,\n",
       " 41,\n",
       " 43,\n",
       " 45,\n",
       " 47,\n",
       " 49,\n",
       " 51,\n",
       " 53,\n",
       " 55,\n",
       " 57,\n",
       " 59,\n",
       " 61,\n",
       " 63,\n",
       " 65,\n",
       " 67,\n",
       " 69,\n",
       " 71,\n",
       " 73,\n",
       " 75,\n",
       " 77,\n",
       " 79,\n",
       " 81,\n",
       " 83,\n",
       " 85,\n",
       " 87,\n",
       " 89,\n",
       " 91,\n",
       " 93,\n",
       " 95,\n",
       " 97,\n",
       " 99]"
      ]
     },
     "execution_count": 6,
     "metadata": {},
     "output_type": "execute_result"
    }
   ],
   "source": [
    "oddnum"
   ]
  },
  {
   "cell_type": "code",
   "execution_count": null,
   "id": "ccf0fb3b-14b2-4422-9fd7-6ee1fe26dfb6",
   "metadata": {},
   "outputs": [],
   "source": []
  }
 ],
 "metadata": {
  "kernelspec": {
   "display_name": "Python 3 (ipykernel)",
   "language": "python",
   "name": "python3"
  },
  "language_info": {
   "codemirror_mode": {
    "name": "ipython",
    "version": 3
   },
   "file_extension": ".py",
   "mimetype": "text/x-python",
   "name": "python",
   "nbconvert_exporter": "python",
   "pygments_lexer": "ipython3",
   "version": "3.10.8"
  }
 },
 "nbformat": 4,
 "nbformat_minor": 5
}
