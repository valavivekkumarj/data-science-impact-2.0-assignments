{
 "cells": [
  {
   "cell_type": "code",
   "execution_count": 4,
   "id": "92ceac5e-996a-435c-b4f6-674ee3b71b89",
   "metadata": {},
   "outputs": [],
   "source": [
    "#this is single line comment"
   ]
  },
  {
   "cell_type": "code",
   "execution_count": null,
   "id": "75615703-eec9-4c55-b3f8-457d0c41f103",
   "metadata": {},
   "outputs": [],
   "source": [
    "\"\"\"this is multiple line comment\n",
    "It can span multiple lines without using the # symbol on each line.\n",
    "\"\"\""
   ]
  },
  {
   "cell_type": "code",
   "execution_count": null,
   "id": "d3dc41c4-2aa8-41d7-86ce-db02c0e17d57",
   "metadata": {},
   "outputs": [],
   "source": [
    "#variables are used to store data or values\n",
    "x=10\n",
    "v=\"vala vivek\"\n"
   ]
  },
  {
   "cell_type": "code",
   "execution_count": 5,
   "id": "e1fdca2c-06d4-40e2-9e11-ec82c9c5d93e",
   "metadata": {},
   "outputs": [],
   "source": [
    "# you can convert one data type to another using built-in functions or methods ,this called type casting in python.\n",
    "x=10.0\n",
    "y=int(x)\n",
    "z=str(x)\n",
    "a=0\n",
    "b=bool(a)"
   ]
  },
  {
   "cell_type": "code",
   "execution_count": 6,
   "id": "bc30f815-bc3a-4526-9a3e-a22a9cb027ae",
   "metadata": {},
   "outputs": [
    {
     "data": {
      "text/plain": [
       "False"
      ]
     },
     "execution_count": 6,
     "metadata": {},
     "output_type": "execute_result"
    }
   ],
   "source": [
    "b"
   ]
  },
  {
   "cell_type": "code",
   "execution_count": 7,
   "id": "54e5758d-934b-415d-bcc6-1ed0008b9f9b",
   "metadata": {},
   "outputs": [
    {
     "data": {
      "text/plain": [
       "'10.0'"
      ]
     },
     "execution_count": 7,
     "metadata": {},
     "output_type": "execute_result"
    }
   ],
   "source": [
    "z"
   ]
  },
  {
   "cell_type": "code",
   "execution_count": 8,
   "id": "fbe057d5-7dce-48e7-8163-e73322cafab7",
   "metadata": {},
   "outputs": [
    {
     "data": {
      "text/plain": [
       "10"
      ]
     },
     "execution_count": 8,
     "metadata": {},
     "output_type": "execute_result"
    }
   ],
   "source": [
    "y"
   ]
  },
  {
   "cell_type": "code",
   "execution_count": 9,
   "id": "15d98160-e527-479c-9189-ed12b47e04aa",
   "metadata": {},
   "outputs": [
    {
     "data": {
      "text/plain": [
       "10.0"
      ]
     },
     "execution_count": 9,
     "metadata": {},
     "output_type": "execute_result"
    }
   ],
   "source": [
    "x"
   ]
  },
  {
   "cell_type": "markdown",
   "id": "e1a44bd3-2001-4489-b69e-401d26ccf5fb",
   "metadata": {},
   "source": [
    "In the text editor, write your Python code in the file script.py. For example, you can write a simple \"Hello, World!\" program:\n",
    "example:\n",
    "print(\"Hello, World!\")\n",
    "Save the file as  script.py.\n",
    "\n",
    "Open a terminal or command prompt.\n",
    "\n",
    "Navigate to the directory where you saved the script.py file using the cd command. For example, if the file is saved on the desktop, you can use:\n",
    "\n",
    "cd ~/Desktop\n",
    "\n",
    "Once you are in the correct directory, you can execute the Python script by typing python followed by the script name (script.py) and pressing Enter:\n",
    "\n",
    "python script.py\n",
    "\n",
    "The Python interpreter will run the script, and the output will be displayed in the terminal:\n",
    "\n",
    "Hello, World!"
   ]
  },
  {
   "cell_type": "code",
   "execution_count": 1,
   "id": "d53ad2c5-5253-4da6-8f2e-55cda806ce45",
   "metadata": {},
   "outputs": [],
   "source": [
    "my_list = [1, 2, 3, 4, 5]"
   ]
  },
  {
   "cell_type": "code",
   "execution_count": 2,
   "id": "58cecfd2-9c81-4672-b40c-aa08a938463e",
   "metadata": {},
   "outputs": [
    {
     "data": {
      "text/plain": [
       "[2, 3]"
      ]
     },
     "execution_count": 2,
     "metadata": {},
     "output_type": "execute_result"
    }
   ],
   "source": [
    "my_list[1:3]"
   ]
  },
  {
   "cell_type": "markdown",
   "id": "581441ca-e938-4def-8a34-303d51a4a20b",
   "metadata": {},
   "source": [
    "In mathematics, a complex number is a number that comprises both a real part and an imaginary part. It is written in the form a + bi, where a is the real part, b is the imaginary part, and i is the imaginary unit defined as the square root of -1.\n",
    "\n",
    "In Python, complex numbers are supported as a built-in data type. They can be represented using the complex class or by directly specifying the real and imaginary parts.\n",
    "\n",
    "\n"
   ]
  },
  {
   "cell_type": "code",
   "execution_count": 3,
   "id": "aebf2e0f-9d59-4604-89c7-178226522671",
   "metadata": {},
   "outputs": [],
   "source": [
    "z = 2 + 5j"
   ]
  },
  {
   "cell_type": "code",
   "execution_count": 8,
   "id": "16b5b045-222a-48fb-bf3c-5fb7565724b0",
   "metadata": {},
   "outputs": [
    {
     "data": {
      "text/plain": [
       "5.0"
      ]
     },
     "execution_count": 8,
     "metadata": {},
     "output_type": "execute_result"
    }
   ],
   "source": [
    "z.imag"
   ]
  },
  {
   "cell_type": "code",
   "execution_count": 9,
   "id": "206bec41-cf68-4ed9-9a6c-c87463c8b6f2",
   "metadata": {},
   "outputs": [
    {
     "data": {
      "text/plain": [
       "2.0"
      ]
     },
     "execution_count": 9,
     "metadata": {},
     "output_type": "execute_result"
    }
   ],
   "source": [
    "z.real"
   ]
  },
  {
   "cell_type": "code",
   "execution_count": 10,
   "id": "e0ff360e-5f15-43ed-93aa-b0441b983943",
   "metadata": {},
   "outputs": [],
   "source": [
    "#This line of code declares a variable named age and assigns the integer value 25 to it. \n",
    "age=25\n"
   ]
  },
  {
   "cell_type": "code",
   "execution_count": 11,
   "id": "b9618771-e6a6-4672-afb9-fdb1be1fc595",
   "metadata": {},
   "outputs": [],
   "source": [
    "#Declare a variable named price and assign the value 9.99 to it. What data type does this variable\n",
    "#belong to?\n",
    "\n",
    "price=9.99\n"
   ]
  },
  {
   "cell_type": "code",
   "execution_count": 12,
   "id": "2450c934-1b2b-42d9-9c59-b106459b3620",
   "metadata": {},
   "outputs": [
    {
     "data": {
      "text/plain": [
       "float"
      ]
     },
     "execution_count": 12,
     "metadata": {},
     "output_type": "execute_result"
    }
   ],
   "source": [
    "type(price)"
   ]
  },
  {
   "cell_type": "code",
   "execution_count": 13,
   "id": "8b109695-2a81-4fa8-a2bd-7acba139ba9b",
   "metadata": {},
   "outputs": [
    {
     "name": "stdout",
     "output_type": "stream",
     "text": [
      "vivekkumar vala\n"
     ]
    }
   ],
   "source": [
    "#Create a variable named name and assign your full name to it as a string. How would you print the\n",
    "#value of this variable?\n",
    "\n",
    "name=\"vivekkumar vala\"\n",
    "print(name)"
   ]
  },
  {
   "cell_type": "code",
   "execution_count": 14,
   "id": "b743ef47-eae7-4fdb-be6f-a6975d0866bb",
   "metadata": {},
   "outputs": [
    {
     "data": {
      "text/plain": [
       "'vivekkumar vala'"
      ]
     },
     "execution_count": 14,
     "metadata": {},
     "output_type": "execute_result"
    }
   ],
   "source": [
    "name"
   ]
  },
  {
   "cell_type": "code",
   "execution_count": 15,
   "id": "40ed6919-17f4-4c52-b28f-3f60dbbbc56a",
   "metadata": {},
   "outputs": [],
   "source": [
    "#Given the string \"Hello, World!\", extract the substring \"World\".\n",
    "string=\"Hello, World!\"\n"
   ]
  },
  {
   "cell_type": "code",
   "execution_count": 17,
   "id": "df5eb88a-bfdd-41d5-9a6d-344a757bb474",
   "metadata": {},
   "outputs": [
    {
     "data": {
      "text/plain": [
       "'World'"
      ]
     },
     "execution_count": 17,
     "metadata": {},
     "output_type": "execute_result"
    }
   ],
   "source": [
    "string[7:12]"
   ]
  },
  {
   "cell_type": "code",
   "execution_count": null,
   "id": "7e803800-9e1f-40b6-9ce5-5efe76aeafdd",
   "metadata": {},
   "outputs": [],
   "source": [
    "#Q11. Create a variable named \"is_student\" and assign it a boolean value indicating whether you are\n",
    "#currently a student or not.\n",
    "is_student=True  #if student"
   ]
  }
 ],
 "metadata": {
  "kernelspec": {
   "display_name": "Python 3 (ipykernel)",
   "language": "python",
   "name": "python3"
  },
  "language_info": {
   "codemirror_mode": {
    "name": "ipython",
    "version": 3
   },
   "file_extension": ".py",
   "mimetype": "text/x-python",
   "name": "python",
   "nbconvert_exporter": "python",
   "pygments_lexer": "ipython3",
   "version": "3.10.8"
  }
 },
 "nbformat": 4,
 "nbformat_minor": 5
}
